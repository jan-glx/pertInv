{
 "cells": [
  {
   "cell_type": "code",
   "execution_count": null,
   "metadata": {},
   "outputs": [],
   "source": [
    "versioninfo()\n",
    "Pkg.status(\"MixedModels\")"
   ]
  },
  {
   "cell_type": "code",
   "execution_count": 34,
   "metadata": {},
   "outputs": [],
   "source": [
    "using DataFrames, MixedModels\n",
    "\n",
    "p = 10;   # number of genes\n",
    "n = 1000;  # number of cells\n",
    "df = DataFrame(gene = repeat(1:p, outer=n), cell = repeat(1:n, inner=p), counts = zeros(n * p));\n",
    "lmm1 = lmm(@formula(counts ~ 1 + (1|cell) + (1|gene)), df);\n",
    "# set the random number generator seed for reproducibility\n",
    "srand(1);MixedModels.setβ!\n",
    "# simulate the linear mixed model response and fit it (as a sanity check)\n",
    "σ=0.1;\n",
    "refit!(simulate!(lmm1, β=[2.0], σ=σ, θ=[1., 2.]/σ));\n",
    "# simulate the Poisson response\n",
    "df[:counts] = rand.(Poisson.(exp.(model_response(lmm1))));\n",
    "# try to fit poisson mixed-model\n",
    "glmm1 = glmm(@formula(counts ~ 1 + (1|cell) + (1|gene)), df, Poisson());\n",
    "MixedModels.setβ!(glmm1, [2]);\n",
    "MixedModels.setθ!(glmm1, [1.0, 2.0] /σ);\n",
    "fit!(glmm1, fast=true, verbose=true)"
   ]
  },
  {
   "cell_type": "code",
   "execution_count": 18,
   "metadata": {},
   "outputs": [
    {
     "ename": "LoadError",
     "evalue": "\u001b[91msyntax: space before \"[\" not allowed in \"26150.69115 [\"\u001b[39m",
     "output_type": "error",
     "traceback": [
      "\u001b[91msyntax: space before \"[\" not allowed in \"26150.69115 [\"\u001b[39m",
      "",
      "Stacktrace:",
      " [1] \u001b[1minclude_string\u001b[22m\u001b[22m\u001b[1m(\u001b[22m\u001b[22m::String, ::String\u001b[1m)\u001b[22m\u001b[22m at \u001b[1m.\\loading.jl:515\u001b[22m\u001b[22m"
     ]
    }
   ],
   "source": [
    "f_1: 26150.69115 [1.0, 1.0]\n",
    "f_1: 26150.69115 [1.0, 1.0]"
   ]
  },
  {
   "cell_type": "code",
   "execution_count": null,
   "metadata": {},
   "outputs": [],
   "source": [
    "glmm1 = glmm(@formula(counts ~ 1 + (1|cell) + (1|gene)), df, Poisson());\n",
    "glmm1.β"
   ]
  },
  {
   "cell_type": "code",
   "execution_count": 35,
   "metadata": {},
   "outputs": [
    {
     "data": {
      "text/plain": [
       "2-element Array{Array{Float64,2},1}:\n",
       " [0.0 0.0 … 0.0 0.0]\n",
       " [0.0 0.0 … 0.0 0.0]"
      ]
     },
     "execution_count": 35,
     "metadata": {},
     "output_type": "execute_result"
    }
   ],
   "source": [
    "glmm1.b"
   ]
  },
  {
   "cell_type": "code",
   "execution_count": 36,
   "metadata": {},
   "outputs": [
    {
     "data": {
      "text/plain": [
       "GLM.GlmResp{Array{Float64,1},Distributions.Poisson{Float64},GLM.LogLink}([0.0, 16.0, 194.0, 3.0, 589.0, 0.0, 81.0, 16.0, 0.0, 71.0  …  0.0, 11.0, 163.0, 1.0, 558.0, 1.0, 38.0, 18.0, 1.0, 64.0], Distributions.Poisson{Float64}(λ=1.0), [317.684, 212.233, 7.26396, 287.868, 683.473, 317.684, 46.5832, 212.233, 317.684, 61.3411  …  317.684, 236.943, 0.107915, 305.548, 603.882, 305.548, 132.979, 203.292, 305.548, 73.3284], [5.06791, 5.06791, 5.06791, 5.06791, 5.06791, 5.06791, 5.06791, 5.06791, 5.06791, 5.06791  …  5.06791, 5.06791, 5.06791, 5.06791, 5.06791, 5.06791, 5.06791, 5.06791, 5.06791, 5.06791], [158.842, 158.842, 158.842, 158.842, 158.842, 158.842, 158.842, 158.842, 158.842, 158.842  …  158.842, 158.842, 158.842, 158.842, 158.842, 158.842, 158.842, 158.842, 158.842, 158.842], Float64[], [1.0, 1.0, 1.0, 1.0, 1.0, 1.0, 1.0, 1.0, 1.0, 1.0  …  1.0, 1.0, 1.0, 1.0, 1.0, 1.0, 1.0, 1.0, 1.0, 1.0], [158.842, 158.842, 158.842, 158.842, 158.842, 158.842, 158.842, 158.842, 158.842, 158.842  …  158.842, 158.842, 158.842, 158.842, 158.842, 158.842, 158.842, 158.842, 158.842, 158.842], [-1.0, -0.899271, 0.221341, -0.981113, 2.70809, -1.0, -0.490059, -0.899271, -1.0, -0.553014  …  -1.0, -0.930749, 0.026178, -0.993704, 2.51293, -0.993704, -0.760768, -0.88668, -0.993704, -0.597083])"
      ]
     },
     "execution_count": 36,
     "metadata": {},
     "output_type": "execute_result"
    }
   ],
   "source": [
    "glmm1.resp"
   ]
  },
  {
   "cell_type": "code",
   "execution_count": 37,
   "metadata": {},
   "outputs": [
    {
     "data": {
      "text/plain": [
       "1×10 Array{Float64,2}:\n",
       " 0.0  0.0  0.0  0.0  0.0  0.0  0.0  0.0  0.0  0.0"
      ]
     },
     "execution_count": 37,
     "metadata": {},
     "output_type": "execute_result"
    }
   ],
   "source": [
    "glmm1.u[2]"
   ]
  },
  {
   "cell_type": "code",
   "execution_count": 38,
   "metadata": {},
   "outputs": [
    {
     "data": {
      "text/plain": [
       "2-element Array{Array{Float64,2},1}:\n",
       " [0.0 0.0 … 0.0 0.0]\n",
       " [0.0 0.0 … 0.0 0.0]"
      ]
     },
     "execution_count": 38,
     "metadata": {},
     "output_type": "execute_result"
    }
   ],
   "source": [
    "glmm1.u₀"
   ]
  },
  {
   "cell_type": "code",
   "execution_count": 39,
   "metadata": {},
   "outputs": [
    {
     "data": {
      "text/plain": [
       "0-element Array{Float64,1}"
      ]
     },
     "execution_count": 39,
     "metadata": {},
     "output_type": "execute_result"
    }
   ],
   "source": [
    "glmm1.wt"
   ]
  },
  {
   "cell_type": "code",
   "execution_count": 40,
   "metadata": {},
   "outputs": [
    {
     "data": {
      "text/plain": [
       "1-element Array{Float64,1}:\n",
       " 5.0"
      ]
     },
     "execution_count": 40,
     "metadata": {},
     "output_type": "execute_result"
    }
   ],
   "source": [
    "glmm1.β"
   ]
  },
  {
   "cell_type": "code",
   "execution_count": 41,
   "metadata": {},
   "outputs": [
    {
     "data": {
      "text/plain": [
       "1-element Array{Float64,1}:\n",
       " 5.06791"
      ]
     },
     "execution_count": 41,
     "metadata": {},
     "output_type": "execute_result"
    }
   ],
   "source": [
    "glmm1.β₀\n"
   ]
  },
  {
   "cell_type": "code",
   "execution_count": 42,
   "metadata": {},
   "outputs": [
    {
     "data": {
      "text/plain": [
       "10000-element Array{Float64,1}:\n",
       " 5.06791\n",
       " 5.06791\n",
       " 5.06791\n",
       " 5.06791\n",
       " 5.06791\n",
       " 5.06791\n",
       " 5.06791\n",
       " 5.06791\n",
       " 5.06791\n",
       " 5.06791\n",
       " 5.06791\n",
       " 5.06791\n",
       " 5.06791\n",
       " ⋮      \n",
       " 5.06791\n",
       " 5.06791\n",
       " 5.06791\n",
       " 5.06791\n",
       " 5.06791\n",
       " 5.06791\n",
       " 5.06791\n",
       " 5.06791\n",
       " 5.06791\n",
       " 5.06791\n",
       " 5.06791\n",
       " 5.06791"
      ]
     },
     "execution_count": 42,
     "metadata": {},
     "output_type": "execute_result"
    }
   ],
   "source": [
    "glmm1.η"
   ]
  },
  {
   "cell_type": "code",
   "execution_count": 49,
   "metadata": {},
   "outputs": [
    {
     "data": {
      "text/plain": [
       "Initial parameter vector: [1.0, 1.0]\n",
       "Initial objective value:  8401.50439631942\n",
       "\n",
       "Optimizer (from NLopt):   LN_BOBYQA\n",
       "Lower bounds:             [0.0, 0.0]\n",
       "ftol_rel:                 1.0e-12\n",
       "ftol_abs:                 1.0e-8\n",
       "xtol_rel:                 0.0\n",
       "xtol_abs:                 [1.0e-10, 1.0e-10]\n",
       "initial_step:             [0.75, 0.75]\n",
       "maxfeval:                 -1\n",
       "\n",
       "Function evaluations:     87\n",
       "Final parameter vector:   [9.89413, 25.9183]\n",
       "Final objective value:    -10533.170779578591\n",
       "Return code:              FTOL_REACHED\n"
      ]
     },
     "execution_count": 49,
     "metadata": {},
     "output_type": "execute_result"
    }
   ],
   "source": [
    "lmm1.optsum"
   ]
  },
  {
   "cell_type": "code",
   "execution_count": 47,
   "metadata": {},
   "outputs": [
    {
     "data": {
      "text/plain": [
       "Initial parameter vector: [1.0, 1.0]\n",
       "Initial objective value:  Inf\n",
       "\n",
       "Optimizer (from NLopt):   LN_BOBYQA\n",
       "Lower bounds:             [0.0, 0.0]\n",
       "ftol_rel:                 1.0e-12\n",
       "ftol_abs:                 1.0e-8\n",
       "xtol_rel:                 0.0\n",
       "xtol_abs:                 [1.0e-10, 1.0e-10]\n",
       "initial_step:             Float64[]\n",
       "maxfeval:                 -1\n",
       "\n",
       "Function evaluations:     -1\n",
       "Final parameter vector:   [1.0, 1.0]\n",
       "Final objective value:    Inf\n",
       "Return code:              FAILURE\n"
      ]
     },
     "execution_count": 47,
     "metadata": {},
     "output_type": "execute_result"
    }
   ],
   "source": [
    "lm = glmm1.LMM\n",
    "lm.optsum"
   ]
  },
  {
   "cell_type": "code",
   "execution_count": null,
   "metadata": {},
   "outputs": [],
   "source": [
    "lmm1.trms[3].Λ\n",
    "\n",
    "#[trm.Λ for trm in lmm1.trms[1]]\n",
    "\n"
   ]
  },
  {
   "cell_type": "code",
   "execution_count": null,
   "metadata": {},
   "outputs": [],
   "source": [
    "glmm0 = fit!(glmm(@formula(ori ~ 1 + (1|cell) + (1|gene)), df, Normal(), GLM.IdentityLink() ), fast=false) "
   ]
  },
  {
   "cell_type": "code",
   "execution_count": null,
   "metadata": {},
   "outputs": [],
   "source": [
    "glmm2 = fit!(glmm(@formula(counts ~ 1 + (1|cell) + (1|gene)), df, Poisson()), fast=false)"
   ]
  },
  {
   "cell_type": "code",
   "execution_count": null,
   "metadata": {},
   "outputs": [],
   "source": [
    "tic();\n",
    "glmm1 = fit!(glmm(@formula(counts ~ 1 + (1|cell) + (1|gene)), df, Poisson()), fast=true)\n",
    "toc()"
   ]
  },
  {
   "cell_type": "code",
   "execution_count": null,
   "metadata": {},
   "outputs": [],
   "source": [
    "df[:gene] = string.(df[:gene]) # convert character to string bc R has no real character type\n",
    "@rput df\n",
    "R\"\"\"\n",
    "library(glmmTMB)\n",
    "start.time <- Sys.time()\n",
    "glmmTMB(counts~1+(1|gene)+(1|cell), data=df, family=\"poisson\")\n",
    "Sys.time()-start.time\n",
    "\"\"\""
   ]
  },
  {
   "cell_type": "code",
   "execution_count": null,
   "metadata": {},
   "outputs": [],
   "source": [
    "R\"\"\"\n",
    "library(lme4)\n",
    "start.time <- Sys.time()\n",
    "glmer(counts~1+(1|gene)+(1|cell), data=df, family=\"poisson\")\n",
    "Sys.time()-start.time\n",
    "\"\"\""
   ]
  },
  {
   "cell_type": "code",
   "execution_count": null,
   "metadata": {
    "collapsed": true
   },
   "outputs": [],
   "source": []
  }
 ],
 "metadata": {
  "kernelspec": {
   "display_name": "Julia 0.6.0",
   "language": "julia",
   "name": "julia-0.6"
  },
  "language_info": {
   "file_extension": ".jl",
   "mimetype": "application/julia",
   "name": "julia",
   "version": "0.6.0"
  }
 },
 "nbformat": 4,
 "nbformat_minor": 2
}
