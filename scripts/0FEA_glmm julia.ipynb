{
 "cells": [
  {
   "cell_type": "code",
   "execution_count": 4,
   "metadata": {},
   "outputs": [
    {
     "name": "stdout",
     "output_type": "stream",
     "text": [
      "Julia Version 0.6.0\n",
      "Commit 903644385b* (2017-06-19 13:05 UTC)\n",
      "Platform Info:\n",
      "  OS: Windows (x86_64-w64-mingw32)\n",
      "  CPU: Intel(R) Core(TM) i7-4700MQ CPU @ 2.40GHz\n",
      "  WORD_SIZE: 64\n",
      "  BLAS: libopenblas (USE64BITINT DYNAMIC_ARCH NO_AFFINITY Haswell)\n",
      "  LAPACK: libopenblas64_\n",
      "  LIBM: libopenlibm\n",
      "  LLVM: libLLVM-3.9.1 (ORCJIT, haswell)\n"
     ]
    }
   ],
   "source": [
    "versioninfo()"
   ]
  },
  {
   "cell_type": "code",
   "execution_count": 2,
   "metadata": {},
   "outputs": [
    {
     "name": "stderr",
     "output_type": "stream",
     "text": [
      "WARNING: Method definition ==(Base.Nullable{S}, Base."
     ]
    }
   ],
   "source": [
    "using DataFrames, Distributions, GLM, MixedModels, RCall"
   ]
  },
  {
   "cell_type": "code",
   "execution_count": 3,
   "metadata": {},
   "outputs": [
    {
     "name": "stderr",
     "output_type": "stream",
     "text": [
      "Nullable{T}) in module Base at nullable.jl:238 overwritten in module NullableArrays at C:\\Users\\jan\\.julia\\v0.6\\NullableArrays\\src\\operators.jl:99.\n",
      "WARNING: Compat.AsyncCondition is deprecated, use Base.AsyncCondition instead.\n",
      "  likely near In[2]:1\n"
     ]
    },
    {
     "data": {
      "text/html": [
       "<table class=\"data-frame\"><thead><tr><th></th><th>gene</th><th>cell</th><th>counts</th></tr></thead><tbody><tr><th>1</th><td>A</td><td>1</td><td>302</td></tr><tr><th>2</th><td>B</td><td>1</td><td>4</td></tr><tr><th>3</th><td>C</td><td>1</td><td>350</td></tr><tr><th>4</th><td>D</td><td>1</td><td>2</td></tr><tr><th>5</th><td>E</td><td>1</td><td>35</td></tr><tr><th>6</th><td>F</td><td>1</td><td>0</td></tr></tbody></table>"
      ],
      "text/plain": [
       "6×3 DataFrames.DataFrame\n",
       "│ Row │ gene │ cell │ counts │\n",
       "├─────┼──────┼──────┼────────┤\n",
       "│ 1   │ 'A'  │ 1    │ 302    │\n",
       "│ 2   │ 'B'  │ 1    │ 4      │\n",
       "│ 3   │ 'C'  │ 1    │ 350    │\n",
       "│ 4   │ 'D'  │ 1    │ 2      │\n",
       "│ 5   │ 'E'  │ 1    │ 35     │\n",
       "│ 6   │ 'F'  │ 1    │ 0      │"
      ]
     },
     "execution_count": 3,
     "metadata": {},
     "output_type": "execute_result"
    },
    {
     "name": "stderr",
     "output_type": "stream",
     "text": [
      "WARNING: Compat.AsyncCondition is deprecated, use "
     ]
    }
   ],
   "source": [
    "p  = 10\n",
    "n = 100\n",
    "js=collect(Iterators.product('A':'A'+p-1, 1:n))[:]\n",
    "df = DataFrame(gene=[js[i][1] for i = 1:size(js)[1]], cell=[js[i][2] for i = 1:size(js)[1]])\n",
    "gene_effect = rand(Normal(0, 2), p)\n",
    "cell_effect = rand(Normal(0,1), n)\n",
    "df[:counts] = cell_effect[df[:cell]]+gene_effect[convert(Array{Int64,1},df[:gene])-64]+rand(Normal(2, 0.1), n*p) \n",
    "df[:counts] = [rand(Poisson(lambda)) for lambda in exp(df[:counts])] \n",
    "head(df)"
   ]
  },
  {
   "cell_type": "code",
   "execution_count": 4,
   "metadata": {},
   "outputs": [
    {
     "name": "stderr",
     "output_type": "stream",
     "text": [
      "Base.AsyncCondition instead.\n",
      "  likely near In[2]:1\n"
     ]
    },
    {
     "data": {
      "text/html": [
       "<table class=\"data-frame\"><thead><tr><th></th><th>gene</th><th>x1</th></tr></thead><tbody><tr><th>1</th><td>A</td><td>116.29</td></tr><tr><th>2</th><td>B</td><td>2.54</td></tr><tr><th>3</th><td>C</td><td>162.13</td></tr><tr><th>4</th><td>D</td><td>1.38</td></tr><tr><th>5</th><td>E</td><td>13.85</td></tr><tr><th>6</th><td>F</td><td>1.84</td></tr><tr><th>7</th><td>G</td><td>4.93</td></tr><tr><th>8</th><td>H</td><td>33.94</td></tr><tr><th>9</th><td>I</td><td>10.87</td></tr><tr><th>10</th><td>J</td><td>1.73</td></tr></tbody></table>"
      ],
      "text/plain": [
       "10×2 DataFrames.DataFrame\n",
       "│ Row │ gene │ x1     │\n",
       "├─────┼──────┼────────┤\n",
       "│ 1   │ 'A'  │ 116.29 │\n",
       "│ 2   │ 'B'  │ 2.54   │\n",
       "│ 3   │ 'C'  │ 162.13 │\n",
       "│ 4   │ 'D'  │ 1.38   │\n",
       "│ 5   │ 'E'  │ 13.85  │\n",
       "│ 6   │ 'F'  │ 1.84   │\n",
       "│ 7   │ 'G'  │ 4.93   │\n",
       "│ 8   │ 'H'  │ 33.94  │\n",
       "│ 9   │ 'I'  │ 10.87  │\n",
       "│ 10  │ 'J'  │ 1.73   │"
      ]
     },
     "execution_count": 4,
     "metadata": {},
     "output_type": "execute_result"
    }
   ],
   "source": [
    "by(df, [:gene], df -> mean(df[:counts]))"
   ]
  },
  {
   "cell_type": "code",
   "execution_count": 5,
   "metadata": {},
   "outputs": [
    {
     "data": {
      "text/plain": [
       "100-element DataArrays.DataArray{Float64,1}:\n",
       "  82.4\n",
       "   2.2\n",
       "   5.2\n",
       "   9.4\n",
       "  15.5\n",
       "  17.3\n",
       "   5.1\n",
       "  11.9\n",
       "  10.9\n",
       " 127.1\n",
       "  71.1\n",
       "  12.9\n",
       "   8.9\n",
       "   ⋮  \n",
       "  23.7\n",
       "   7.7\n",
       "  19.1\n",
       "  44.1\n",
       "  77.4\n",
       "  13.8\n",
       "  48.8\n",
       "  65.9\n",
       "  17.9\n",
       " 305.2\n",
       "  19.4\n",
       "  10.8"
      ]
     },
     "execution_count": 5,
     "metadata": {},
     "output_type": "execute_result"
    }
   ],
   "source": [
    "by(df, [:cell], df -> mean(df[:counts]))[:x1]"
   ]
  },
  {
   "cell_type": "code",
   "execution_count": 6,
   "metadata": {},
   "outputs": [
    {
     "data": {
      "text/plain": [
       "Generalized Linear Mixed Model fit by minimizing the Laplace approximation to the deviance\n",
       "  Formula: counts ~ 1 + (1 | gene) + (1 | cell)\n",
       "  Distribution: Distributions.Normal{Float64}\n",
       "  Link: GLM.IdentityLink()\n",
       "\n",
       "  Deviance (Laplace approximation): 4670646.7538\n",
       "\n",
       "Variance components:\n",
       "          Column    Variance  Std.Dev. \n",
       " cell (Intercept)  1928.7369 43.917387\n",
       " gene (Intercept)  2927.6297 54.107576\n",
       "\n",
       " Number of obs: 1000; levels of grouping factors: 100, 10\n",
       "\n",
       "Fixed-effects parameters:\n",
       "             Estimate Std.Error z value P(>|z|)\n",
       "(Intercept)     34.95    17.665 1.97849  0.0479\n"
      ]
     },
     "execution_count": 6,
     "metadata": {},
     "output_type": "execute_result"
    }
   ],
   "source": [
    "mm1 = fit!(glmm(@formula(counts ~ 1 + (1 | gene) +  (1 | cell)), df, Normal()))"
   ]
  },
  {
   "cell_type": "code",
   "execution_count": 17,
   "metadata": {},
   "outputs": [
    {
     "name": "stdout",
     "output_type": "stream",
     "text": [
      "in callback catch\n"
     ]
    },
    {
     "ename": "LoadError",
     "evalue": "\u001b[91mBase.LinAlg.PosDefException(10)\u001b[39m",
     "output_type": "error",
     "traceback": [
      "\u001b[91mBase.LinAlg.PosDefException(10)\u001b[39m",
      ""
     ]
    }
   ],
   "source": [
    "mm2 = fit!(glmm(@formula(counts ~ 1 + (1 | gene) +  (1 | cell)), df, Poisson(), GLM.LogLink()))"
   ]
  },
  {
   "cell_type": "code",
   "execution_count": 18,
   "metadata": {},
   "outputs": [
    {
     "name": "stdout",
     "output_type": "stream",
     "text": [
      "in callback catch\n"
     ]
    },
    {
     "ename": "LoadError",
     "evalue": "\u001b[91mBase.LinAlg.PosDefException(10)\u001b[39m",
     "output_type": "error",
     "traceback": [
      "\u001b[91mBase.LinAlg.PosDefException(10)\u001b[39m",
      ""
     ]
    }
   ],
   "source": [
    "mm3 = fit!(glmm(@formula(counts ~ 1 + (1 | gene) +  (1 | cell)), df, Poisson(), GLM.LogLink()), fast=true)\n"
   ]
  },
  {
   "cell_type": "code",
   "execution_count": 8,
   "metadata": {},
   "outputs": [
    {
     "name": "stdout",
     "output_type": "stream",
     "text": [
      "f_1: 26150.69115 [1.0, 1.0]\n",
      "in callback catch\n"
     ]
    },
    {
     "ename": "LoadError",
     "evalue": "\u001b[91mBase.LinAlg.PosDefException(5)\u001b[39m",
     "output_type": "error",
     "traceback": [
      "\u001b[91mBase.LinAlg.PosDefException(5)\u001b[39m",
      ""
     ]
    }
   ],
   "source": [
    "using DataFrames, MixedModels\n",
    "p = 10;   # number of genes\n",
    "n = 1000;  # number of cells\n",
    "df = DataFrame(gene = repeat(1:p, outer=n), cell = repeat(1:n, inner=p), counts = zeros(n * p));\n",
    "lmm1 = lmm(@formula(counts ~ 1 + (1|cell) + (1|gene)), df);\n",
    "# set the random number generator seed for reproducibility\n",
    "srand(1);\n",
    "# simulate the linear mixed model response and fit it (as a sanity check)\n",
    "σ=0.1;\n",
    "refit!(simulate!(lmm1, β=[2.0], σ=σ, θ=[1., 2.]/σ));\n",
    "# simulate the Poisson response\n",
    "df[:counts] = rand.(Poisson.(exp.(model_response(lmm1))));\n",
    "# try to fit poisson mixed-model\n",
    "glmm1 = glmm(@formula(counts ~ 1 + (1|cell) + (1|gene)), df, Poisson())\n",
    "fit!(glmm1, fast=true, verbose=true)\n"
   ]
  },
  {
   "cell_type": "code",
   "execution_count": 9,
   "metadata": {},
   "outputs": [
    {
     "ename": "DomainError",
     "evalue": "DomainError:\nlog will only return a complex result if called with a complex argument. Try log(complex(x)).",
     "output_type": "error",
     "traceback": [
      "DomainError:\nlog will only return a complex result if called with a complex argument. Try log(complex(x)).",
      "",
      "Stacktrace:",
      " [1] \u001b[1mnan_dom_err\u001b[22m\u001b[22m at \u001b[1m.\\math.jl:300\u001b[22m\u001b[22m [inlined]",
      " [2] \u001b[1mlog\u001b[22m\u001b[22m at \u001b[1m.\\math.jl:419\u001b[22m\u001b[22m [inlined]",
      " [3] \u001b[1mmapfoldl_impl\u001b[22m\u001b[22m\u001b[1m(\u001b[22m\u001b[22m::Base.#log, ::Base.#+, ::Float64, ::Base.Generator{StepRange{Int64,Int64},MixedModels.##16#17{Array{Float64,2}}}, ::Int64\u001b[1m)\u001b[22m\u001b[22m at \u001b[1m.\\reduce.jl:46\u001b[22m\u001b[22m",
      " [4] \u001b[1mmapfoldl\u001b[22m\u001b[22m\u001b[1m(\u001b[22m\u001b[22m::Base.#log, ::Function, ::Base.Generator{StepRange{Int64,Int64},MixedModels.##16#17{Array{Float64,2}}}\u001b[1m)\u001b[22m\u001b[22m at \u001b[1m.\\reduce.jl:73\u001b[22m\u001b[22m",
      " [5] \u001b[1mLD\u001b[22m\u001b[22m\u001b[1m(\u001b[22m\u001b[22m::Array{Float64,2}\u001b[1m)\u001b[22m\u001b[22m at \u001b[1mC:\\Users\\jan\\.julia\\v0.6\\MixedModels\\src\\linalg\\logdet.jl:16\u001b[22m\u001b[22m",
      " [6] \u001b[1mlogdet\u001b[22m\u001b[22m\u001b[1m(\u001b[22m\u001b[22m::MixedModels.LinearMixedModel{Float64}\u001b[1m)\u001b[22m\u001b[22m at \u001b[1mC:\\Users\\jan\\.julia\\v0.6\\MixedModels\\src\\linalg\\logdet.jl:27\u001b[22m\u001b[22m",
      " [7] \u001b[1mLaplaceDeviance\u001b[22m\u001b[22m\u001b[1m(\u001b[22m\u001b[22m::MixedModels.GeneralizedLinearMixedModel{Float64}\u001b[1m)\u001b[22m\u001b[22m at \u001b[1mC:\\Users\\jan\\.julia\\v0.6\\MixedModels\\src\\PIRLS.jl:46\u001b[22m\u001b[22m",
      " [8] \u001b[1mshow\u001b[22m\u001b[22m\u001b[1m(\u001b[22m\u001b[22m::IOContext{Base.AbstractIOBuffer{Array{UInt8,1}}}, ::MixedModels.GeneralizedLinearMixedModel{Float64}\u001b[1m)\u001b[22m\u001b[22m at \u001b[1mC:\\Users\\jan\\.julia\\v0.6\\MixedModels\\src\\PIRLS.jl:249\u001b[22m\u001b[22m",
      " [9] \u001b[1mlimitstringmime\u001b[22m\u001b[22m\u001b[1m(\u001b[22m\u001b[22m::MIME{Symbol(\"text/plain\")}, ::MixedModels.GeneralizedLinearMixedModel{Float64}\u001b[1m)\u001b[22m\u001b[22m at \u001b[1mC:\\Users\\jan\\.julia\\v0.6\\IJulia\\src\\inline.jl:24\u001b[22m\u001b[22m",
      " [10] \u001b[1mdisplay_dict\u001b[22m\u001b[22m\u001b[1m(\u001b[22m\u001b[22m::MixedModels.GeneralizedLinearMixedModel{Float64}\u001b[1m)\u001b[22m\u001b[22m at \u001b[1mC:\\Users\\jan\\.julia\\v0.6\\IJulia\\src\\execute_request.jl:27\u001b[22m\u001b[22m",
      " [11] \u001b[1mexecute_request\u001b[22m\u001b[22m\u001b[1m(\u001b[22m\u001b[22m::ZMQ.Socket, ::IJulia.Msg\u001b[1m)\u001b[22m\u001b[22m at \u001b[1mC:\\Users\\jan\\.julia\\v0.6\\IJulia\\src\\execute_request.jl:182\u001b[22m\u001b[22m",
      " [12] \u001b[1meventloop\u001b[22m\u001b[22m\u001b[1m(\u001b[22m\u001b[22m::ZMQ.Socket\u001b[1m)\u001b[22m\u001b[22m at \u001b[1mC:\\Users\\jan\\.julia\\v0.6\\IJulia\\src\\eventloop.jl:8\u001b[22m\u001b[22m",
      " [13] \u001b[1m(::IJulia.##14#17)\u001b[22m\u001b[22m\u001b[1m(\u001b[22m\u001b[22m\u001b[1m)\u001b[22m\u001b[22m at \u001b[1m.\\task.jl:335\u001b[22m\u001b[22m"
     ]
    }
   ],
   "source": [
    "glmm1"
   ]
  },
  {
   "cell_type": "code",
   "execution_count": 94,
   "metadata": {},
   "outputs": [
    {
     "ename": "LoadError",
     "evalue": "\u001b[91mMethodError: no method matching mustart(::Distributions.NegativeBinomial{Float64}, ::Float64, ::Float64)\u001b[0m\nClosest candidates are:\n  mustart(\u001b[91m::Distributions.Bernoulli\u001b[39m, ::Any, ::Any) at C:\\Users\\jan\\.julia\\v0.6\\GLM\\src\\glmtools.jl:306\n  mustart(\u001b[91m::Distributions.Binomial\u001b[39m, ::Any, ::Any) at C:\\Users\\jan\\.julia\\v0.6\\GLM\\src\\glmtools.jl:307\n  mustart(\u001b[91m::Union{Distributions.Gamma, Distributions.InverseGaussian}\u001b[39m, ::Any, ::Any) at C:\\Users\\jan\\.julia\\v0.6\\GLM\\src\\glmtools.jl:308\n  ...\u001b[39m",
     "output_type": "error",
     "traceback": [
      "\u001b[91mMethodError: no method matching mustart(::Distributions.NegativeBinomial{Float64}, ::Float64, ::Float64)\u001b[0m\nClosest candidates are:\n  mustart(\u001b[91m::Distributions.Bernoulli\u001b[39m, ::Any, ::Any) at C:\\Users\\jan\\.julia\\v0.6\\GLM\\src\\glmtools.jl:306\n  mustart(\u001b[91m::Distributions.Binomial\u001b[39m, ::Any, ::Any) at C:\\Users\\jan\\.julia\\v0.6\\GLM\\src\\glmtools.jl:307\n  mustart(\u001b[91m::Union{Distributions.Gamma, Distributions.InverseGaussian}\u001b[39m, ::Any, ::Any) at C:\\Users\\jan\\.julia\\v0.6\\GLM\\src\\glmtools.jl:308\n  ...\u001b[39m",
      "",
      "Stacktrace:",
      " [1] \u001b[1mmacro expansion\u001b[22m\u001b[22m at \u001b[1mC:\\Users\\jan\\.julia\\v0.6\\GLM\\src\\glmfit.jl:226\u001b[22m\u001b[22m [inlined]",
      " [2] \u001b[1mmacro expansion\u001b[22m\u001b[22m at \u001b[1m.\\simdloop.jl:73\u001b[22m\u001b[22m [inlined]",
      " [3] \u001b[1minitialeta!\u001b[22m\u001b[22m\u001b[1m(\u001b[22m\u001b[22m::Distributions.NegativeBinomial{Float64}, ::GLM.LogLink, ::Array{Float64,1}, ::Array{Float64,1}, ::Array{Float64,1}, ::Array{Float64,1}\u001b[1m)\u001b[22m\u001b[22m at \u001b[1mC:\\Users\\jan\\.julia\\v0.6\\GLM\\src\\glmfit.jl:225\u001b[22m\u001b[22m",
      " [4] \u001b[1m#fit#11\u001b[22m\u001b[22m\u001b[1m(\u001b[22m\u001b[22m::Bool, ::Array{Float64,1}, ::Array{Float64,1}, ::Array{Any,1}, ::Function, ::Type{GLM.GeneralizedLinearModel}, ::Array{Float64,2}, ::Array{Float64,1}, ::Distributions.NegativeBinomial{Float64}, ::GLM.LogLink\u001b[1m)\u001b[22m\u001b[22m at \u001b[1mC:\\Users\\jan\\.julia\\v0.6\\GLM\\src\\glmfit.jl:273\u001b[22m\u001b[22m",
      " [5] \u001b[1mfit\u001b[22m\u001b[22m\u001b[1m(\u001b[22m\u001b[22m::Type{GLM.GeneralizedLinearModel}, ::Array{Float64,2}, ::Array{Float64,1}, ::Distributions.NegativeBinomial{Float64}, ::GLM.LogLink\u001b[1m)\u001b[22m\u001b[22m at \u001b[1mC:\\Users\\jan\\.julia\\v0.6\\GLM\\src\\glmfit.jl:264\u001b[22m\u001b[22m",
      " [6] \u001b[1m#fit#153\u001b[22m\u001b[22m\u001b[1m(\u001b[22m\u001b[22m::Dict{Any,Any}, ::Array{Any,1}, ::Function, ::Type{GLM.GeneralizedLinearModel}, ::DataFrames.Formula, ::DataFrames.DataFrame, ::Distributions.NegativeBinomial{Float64}, ::Vararg{Any,N} where N\u001b[1m)\u001b[22m\u001b[22m at \u001b[1mC:\\Users\\jan\\.julia\\v0.6\\DataFrames\\src\\statsmodels\\statsmodel.jl:55\u001b[22m\u001b[22m",
      " [7] \u001b[1mfit\u001b[22m\u001b[22m\u001b[1m(\u001b[22m\u001b[22m::Type{GLM.GeneralizedLinearModel}, ::DataFrames.Formula, ::DataFrames.DataFrame, ::Distributions.NegativeBinomial{Float64}, ::GLM.LogLink\u001b[1m)\u001b[22m\u001b[22m at \u001b[1mC:\\Users\\jan\\.julia\\v0.6\\DataFrames\\src\\statsmodels\\statsmodel.jl:52\u001b[22m\u001b[22m",
      " [8] \u001b[1m#glm#13\u001b[22m\u001b[22m\u001b[1m(\u001b[22m\u001b[22m::Array{Any,1}, ::Function, ::DataFrames.Formula, ::DataFrames.DataFrame, ::Distributions.NegativeBinomial{Float64}, ::Vararg{Any,N} where N\u001b[1m)\u001b[22m\u001b[22m at \u001b[1mC:\\Users\\jan\\.julia\\v0.6\\GLM\\src\\glmfit.jl:286\u001b[22m\u001b[22m",
      " [9] \u001b[1mglm\u001b[22m\u001b[22m\u001b[1m(\u001b[22m\u001b[22m::DataFrames.Formula, ::DataFrames.DataFrame, ::Distributions.NegativeBinomial{Float64}, ::Vararg{Any,N} where N\u001b[1m)\u001b[22m\u001b[22m at \u001b[1mC:\\Users\\jan\\.julia\\v0.6\\GLM\\src\\glmfit.jl:286\u001b[22m\u001b[22m",
      " [10] \u001b[1minclude_string\u001b[22m\u001b[22m\u001b[1m(\u001b[22m\u001b[22m::String, ::String\u001b[1m)\u001b[22m\u001b[22m at \u001b[1m.\\loading.jl:515\u001b[22m\u001b[22m"
     ]
    }
   ],
   "source": [
    "glm1 = glm(@formula(counts ~ 1 + cell + gene), df, NegativeBinomial(), GLM.LogLink())\n",
    "#fit!(glmm1, fast=true, verbose=true)\n",
    "fit!(glm1, fast=true, verbose=true)\n"
   ]
  },
  {
   "cell_type": "code",
   "execution_count": 91,
   "metadata": {},
   "outputs": [
    {
     "ename": "LoadError",
     "evalue": "\u001b[91mMethodError: no method matching mustart(::Distributions.NegativeBinomial{Float64}, ::Float64, ::Float64)\u001b[0m\nClosest candidates are:\n  mustart(\u001b[91m::Distributions.Bernoulli\u001b[39m, ::Any, ::Any) at C:\\Users\\jan\\.julia\\v0.6\\GLM\\src\\glmtools.jl:306\n  mustart(\u001b[91m::Distributions.Binomial\u001b[39m, ::Any, ::Any) at C:\\Users\\jan\\.julia\\v0.6\\GLM\\src\\glmtools.jl:307\n  mustart(\u001b[91m::Union{Distributions.Gamma, Distributions.InverseGaussian}\u001b[39m, ::Any, ::Any) at C:\\Users\\jan\\.julia\\v0.6\\GLM\\src\\glmtools.jl:308\n  ...\u001b[39m",
     "output_type": "error",
     "traceback": [
      "\u001b[91mMethodError: no method matching mustart(::Distributions.NegativeBinomial{Float64}, ::Float64, ::Float64)\u001b[0m\nClosest candidates are:\n  mustart(\u001b[91m::Distributions.Bernoulli\u001b[39m, ::Any, ::Any) at C:\\Users\\jan\\.julia\\v0.6\\GLM\\src\\glmtools.jl:306\n  mustart(\u001b[91m::Distributions.Binomial\u001b[39m, ::Any, ::Any) at C:\\Users\\jan\\.julia\\v0.6\\GLM\\src\\glmtools.jl:307\n  mustart(\u001b[91m::Union{Distributions.Gamma, Distributions.InverseGaussian}\u001b[39m, ::Any, ::Any) at C:\\Users\\jan\\.julia\\v0.6\\GLM\\src\\glmtools.jl:308\n  ...\u001b[39m",
      "",
      "Stacktrace:",
      " [1] \u001b[1mmacro expansion\u001b[22m\u001b[22m at \u001b[1mC:\\Users\\jan\\.julia\\v0.6\\GLM\\src\\glmfit.jl:226\u001b[22m\u001b[22m [inlined]",
      " [2] \u001b[1mmacro expansion\u001b[22m\u001b[22m at \u001b[1m.\\simdloop.jl:73\u001b[22m\u001b[22m [inlined]",
      " [3] \u001b[1minitialeta!\u001b[22m\u001b[22m\u001b[1m(\u001b[22m\u001b[22m::Distributions.NegativeBinomial{Float64}, ::GLM.LogLink, ::Array{Float64,1}, ::Array{Float64,1}, ::Array{Float64,1}, ::Array{Float64,1}\u001b[1m)\u001b[22m\u001b[22m at \u001b[1mC:\\Users\\jan\\.julia\\v0.6\\GLM\\src\\glmfit.jl:225\u001b[22m\u001b[22m",
      " [4] \u001b[1m#fit#11\u001b[22m\u001b[22m\u001b[1m(\u001b[22m\u001b[22m::Bool, ::Array{Float64,1}, ::Array{Float64,1}, ::Array{Any,1}, ::Function, ::Type{GLM.GeneralizedLinearModel}, ::Array{Float64,2}, ::Array{Float64,1}, ::Distributions.NegativeBinomial{Float64}, ::GLM.LogLink\u001b[1m)\u001b[22m\u001b[22m at \u001b[1mC:\\Users\\jan\\.julia\\v0.6\\GLM\\src\\glmfit.jl:273\u001b[22m\u001b[22m",
      " [5] \u001b[1mfit\u001b[22m\u001b[22m\u001b[1m(\u001b[22m\u001b[22m::Type{GLM.GeneralizedLinearModel}, ::Array{Float64,2}, ::Array{Float64,1}, ::Distributions.NegativeBinomial{Float64}, ::GLM.LogLink\u001b[1m)\u001b[22m\u001b[22m at \u001b[1mC:\\Users\\jan\\.julia\\v0.6\\GLM\\src\\glmfit.jl:264\u001b[22m\u001b[22m",
      " [6] \u001b[1m#glm#13\u001b[22m\u001b[22m\u001b[1m(\u001b[22m\u001b[22m::Array{Any,1}, ::Function, ::Array{Float64,2}, ::Array{Float64,1}, ::Distributions.NegativeBinomial{Float64}, ::Vararg{Any,N} where N\u001b[1m)\u001b[22m\u001b[22m at \u001b[1mC:\\Users\\jan\\.julia\\v0.6\\GLM\\src\\glmfit.jl:286\u001b[22m\u001b[22m",
      " [7] \u001b[1m#glmm#50\u001b[22m\u001b[22m\u001b[1m(\u001b[22m\u001b[22m::Array{Any,1}, ::Array{Any,1}, ::Dict{Any,Any}, ::Function, ::DataFrames.Formula, ::DataFrames.DataFrame, ::Distributions.NegativeBinomial{Float64}, ::GLM.LogLink\u001b[1m)\u001b[22m\u001b[22m at \u001b[1mC:\\Users\\jan\\.julia\\v0.6\\MixedModels\\src\\PIRLS.jl:24\u001b[22m\u001b[22m",
      " [8] \u001b[1mglmm\u001b[22m\u001b[22m\u001b[1m(\u001b[22m\u001b[22m::DataFrames.Formula, ::DataFrames.DataFrame, ::Distributions.NegativeBinomial{Float64}, ::GLM.LogLink\u001b[1m)\u001b[22m\u001b[22m at \u001b[1mC:\\Users\\jan\\.julia\\v0.6\\MixedModels\\src\\PIRLS.jl:12\u001b[22m\u001b[22m",
      " [9] \u001b[1minclude_string\u001b[22m\u001b[22m\u001b[1m(\u001b[22m\u001b[22m::String, ::String\u001b[1m)\u001b[22m\u001b[22m at \u001b[1m.\\loading.jl:515\u001b[22m\u001b[22m"
     ]
    }
   ],
   "source": [
    "glmm1 = glmm(@formula(counts ~ 1 + (1|cell) + (1|gene)), df, NegativeBinomial(), GLM.LogLink())\n",
    "fit!(glmm1, fast=true, verbose=true)"
   ]
  },
  {
   "cell_type": "code",
   "execution_count": 87,
   "metadata": {},
   "outputs": [
    {
     "name": "stdout",
     "output_type": "stream",
     "text": [
      "f_1: 16662.90395 [1.0, 1.0]\n",
      "in callback catch\n"
     ]
    },
    {
     "ename": "LoadError",
     "evalue": "\u001b[91mBase.LinAlg.PosDefException(1)\u001b[39m",
     "output_type": "error",
     "traceback": [
      "\u001b[91mBase.LinAlg.PosDefException(1)\u001b[39m",
      ""
     ]
    }
   ],
   "source": [
    "using DataFrames, MixedModels, RCall\n",
    "p = 10;   # number of genes\n",
    "n = 1000;  # number of cells\n",
    "df = DataFrame(gene = repeat(string.(1:p), outer=n), cell = repeat(string.(1:n), inner=p), counts = zeros(n * p));\n",
    "lmm1 = lmm(@formula(counts ~ 1 + (1|cell) + (1|gene)), df);\n",
    "# set the random number generator seed for reproducibility\n",
    "srand(1);\n",
    "# simulate the linear mixed model response and fit it (as a sanity check)\n",
    "σ=0.001;\n",
    "refit!(simulate!(lmm1, β=[2.0], σ=σ, θ=[1.0, 2.0]/σ));\n",
    "# simulate the Poisson response\n",
    "df[:counts] = rand.(Poisson.(exp.(model_response(lmm1))));\n",
    "# try to fit poisson mixed-model\n",
    "pool!(df, [:cell, :gene])\n",
    "glmm1 = fit!(glmm(@formula(counts ~ 1+ (1|cell)+ (1|gene)), df, Poisson()), fast=false, verbose=true)\n"
   ]
  },
  {
   "cell_type": "code",
   "execution_count": 85,
   "metadata": {},
   "outputs": [
    {
     "data": {
      "text/plain": [
       "(2.609660492852513, 3.2773577379274617)"
      ]
     },
     "execution_count": 85,
     "metadata": {},
     "output_type": "execute_result"
    }
   ],
   "source": [
    "std(coeftable(glmm1).cols[1]), mean(coeftable(glmm1).cols[1])"
   ]
  },
  {
   "cell_type": "code",
   "execution_count": null,
   "metadata": {},
   "outputs": [],
   "source": []
  },
  {
   "cell_type": "code",
   "execution_count": 79,
   "metadata": {},
   "outputs": [
    {
     "data": {
      "text/plain": [
       "RCall.RObject{RCall.VecSxp}\n",
       "Formula:          counts ~ 1 + (1 | gene) + (1 | cell)\n",
       "Data: df\n",
       "      AIC       BIC    logLik  df.resid \n",
       " 58424.42  58446.05 -29209.21      9997 \n",
       "Random-effects (co)variances:\n",
       "\n",
       "Conditional model:\n",
       " Groups Name        Std.Dev.\n",
       " cell   (Intercept) 0.9935  \n",
       " gene   (Intercept) 2.6065  \n",
       "\n",
       "Number of obs: 10000 / Conditional model: cell, 1000; gene, 10\n",
       "\n",
       "Fixed Effects:\n",
       "\n",
       "Conditional model:\n",
       "(Intercept)  \n",
       "      2.349  \n"
      ]
     },
     "execution_count": 79,
     "metadata": {},
     "output_type": "execute_result"
    }
   ],
   "source": [
    "@rput df\n",
    "R\"\"\"\n",
    "library(glmmTMB)\n",
    "glmmTMB(counts~1+(1|gene)+(1|cell), data=df, family=\"poisson\")\n",
    "\"\"\""
   ]
  },
  {
   "cell_type": "code",
   "execution_count": null,
   "metadata": {
    "collapsed": true
   },
   "outputs": [],
   "source": []
  }
 ],
 "metadata": {
  "kernelspec": {
   "display_name": "Julia 0.6.0",
   "language": "julia",
   "name": "julia-0.6"
  },
  "language_info": {
   "file_extension": ".jl",
   "mimetype": "application/julia",
   "name": "julia",
   "version": "0.6.0"
  }
 },
 "nbformat": 4,
 "nbformat_minor": 2
}
